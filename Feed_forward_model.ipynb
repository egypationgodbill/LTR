{
 "cells": [
  {
   "cell_type": "code",
   "execution_count": 1,
   "metadata": {},
   "outputs": [
    {
     "name": "stderr",
     "output_type": "stream",
     "text": [
      "WARNING:root:dataset file(s) in '.\\.pytorchltr_datasets\\MSLR10K' are missing or corrupt\n"
     ]
    }
   ],
   "source": [
    "from pytorchltr.datasets import MSLR10K\n",
    "train = MSLR10K(split = \"train\", fold = 2)\n",
    "test = MSLR10K(split = \"test\", fold = 2)\n"
   ]
  },
  {
   "cell_type": "code",
   "execution_count": 12,
   "metadata": {},
   "outputs": [],
   "source": [
    "import torch\n",
    "\n",
    "class Model (torch.nn.Module):\n",
    "    def __init__(self, in_features):\n",
    "        super().__init__()\n",
    "        self.l1 = torch.nn.Linear(in_features, 50)\n",
    "        self.l2 = torch.nn.Linear(50, 10)\n",
    "        self.l3 = torch.nn.Linear(10, 1)\n",
    "\n",
    "    def forward(self, x):\n",
    "        o1 = torch.nn.functional.relu(self.l1(x))\n",
    "        o2 = torch.nn.functional.relu(self.l2(o1))\n",
    "        o3 = self.l3(o2)\n",
    "\n",
    "        return o3"
   ]
  },
  {
   "cell_type": "code",
   "execution_count": 13,
   "metadata": {},
   "outputs": [],
   "source": [
    "torch.manual_seed(42)\n",
    "dimensionality = train[0].features.shape[1]\n",
    "model = Model (dimensionality)"
   ]
  },
  {
   "cell_type": "code",
   "execution_count": 10,
   "metadata": {},
   "outputs": [
    {
     "data": {
      "text/plain": [
       "torch.Size([103, 136])"
      ]
     },
     "execution_count": 10,
     "metadata": {},
     "output_type": "execute_result"
    }
   ],
   "source": [
    "train[0].features.shape"
   ]
  },
  {
   "cell_type": "code",
   "execution_count": 14,
   "metadata": {},
   "outputs": [],
   "source": [
    "from pytorchltr.loss import PairwiseHingeLoss\n",
    "optimizer = torch.optim.Adam (model.parameters(), lr = 0.01)\n",
    "loss_fn = PairwiseHingeLoss ()"
   ]
  },
  {
   "cell_type": "code",
   "execution_count": 18,
   "metadata": {},
   "outputs": [
    {
     "name": "stdout",
     "output_type": "stream",
     "text": [
      "Finished epoch 0, loss: 3418.998535\n",
      "Finished epoch 1, loss: 4069.875000\n",
      "Finished epoch 2, loss: 4331.878906\n",
      "Finished epoch 3, loss: 3610.249512\n",
      "Finished epoch 4, loss: 5661.811035\n",
      "Finished epoch 5, loss: 4275.103516\n",
      "Finished epoch 6, loss: 3177.269287\n",
      "Finished epoch 7, loss: 2717.130615\n",
      "Finished epoch 8, loss: 4614.614258\n",
      "Finished epoch 9, loss: 4141.532227\n",
      "Finished epoch 10, loss: 3779.008057\n",
      "Finished epoch 11, loss: 5396.676758\n",
      "Finished epoch 12, loss: 4240.268555\n",
      "Finished epoch 13, loss: 2320.067383\n",
      "Finished epoch 14, loss: 3102.223877\n",
      "Finished epoch 15, loss: 2739.172607\n",
      "Finished epoch 16, loss: 2900.220947\n",
      "Finished epoch 17, loss: 2767.623779\n",
      "Finished epoch 18, loss: 4662.816895\n",
      "Finished epoch 19, loss: 6637.294434\n",
      "Finished epoch 20, loss: 5746.135742\n"
     ]
    }
   ],
   "source": [
    "from pytorchltr.datasets.list_sampler import UniformSampler\n",
    "\n",
    "device = torch.device (\"cuda\" if torch.cuda.is_available() else \"cpu\")\n",
    "model = model.to(device)\n",
    "optimizer = torch.optim.Adam (model.parameters(), lr = 0.01)\n",
    "for epoch in range(21):\n",
    "    loader = torch.utils.data.DataLoader(train, batch_size = 32, shuffle = True, collate_fn = train.collate_fn(UniformSampler()))\n",
    "    for batch in loader:\n",
    "        xs, ys, n = batch.features, batch.relevance, batch.n\n",
    "\n",
    "        xs, ys, n = xs.to(device), ys.to(device), n.to(device)\n",
    "\n",
    "        loss = loss_fn(model(xs), ys, n).mean()\n",
    "        optimizer.zero_grad()\n",
    "        loss.backward()\n",
    "        optimizer.step()\n",
    "    print(\"Finished epoch %d, loss: %f\" % (epoch, loss.item()))"
   ]
  },
  {
   "cell_type": "code",
   "execution_count": 19,
   "metadata": {},
   "outputs": [
    {
     "name": "stdout",
     "output_type": "stream",
     "text": [
      "ndcg@10 on test set is: 0.441584\n"
     ]
    }
   ],
   "source": [
    "from pytorchltr.evaluation import ndcg\n",
    "loader = torch.utils.data.DataLoader(test, batch_size = 32, shuffle = False, collate_fn = test.collate_fn())\n",
    "\n",
    "final_score = 0.0\n",
    "\n",
    "for batch in loader:\n",
    "    xs, ys, n = batch.features, batch.relevance, batch.n\n",
    "\n",
    "    xs, ys, n = xs.to(device), ys.to(device), n.to(device)\n",
    "\n",
    "    scores = model(xs).squeeze()\n",
    "    final_score += ndcg(scores, ys, n, k = 10).sum().item()\n",
    "\n",
    "print (\"ndcg@10 on test set is: %f\" % (final_score/len(test)))"
   ]
  },
  {
   "cell_type": "code",
   "execution_count": null,
   "metadata": {},
   "outputs": [],
   "source": []
  }
 ],
 "metadata": {
  "kernelspec": {
   "display_name": "Python 3",
   "language": "python",
   "name": "python3"
  },
  "language_info": {
   "codemirror_mode": {
    "name": "ipython",
    "version": 3
   },
   "file_extension": ".py",
   "mimetype": "text/x-python",
   "name": "python",
   "nbconvert_exporter": "python",
   "pygments_lexer": "ipython3",
   "version": "3.10.11"
  },
  "orig_nbformat": 4
 },
 "nbformat": 4,
 "nbformat_minor": 2
}
